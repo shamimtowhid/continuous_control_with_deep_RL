{
 "cells": [
  {
   "cell_type": "markdown",
   "metadata": {},
   "source": [
    "# Continuous Control\n",
    "\n",
    "---\n",
    "\n",
    "You are welcome to use this coding environment to train your agent for the project.  Follow the instructions below to get started!\n",
    "\n",
    "### 1. Start the Environment\n",
    "\n",
    "Run the next code cell to install a few packages.  This line will take a few minutes to run!"
   ]
  },
  {
   "cell_type": "code",
   "execution_count": null,
   "metadata": {},
   "outputs": [],
   "source": [
    "!pip -q install ./python"
   ]
  },
  {
   "cell_type": "markdown",
   "metadata": {},
   "source": [
    "The environments corresponding to both versions of the environment are already saved in the Workspace and can be accessed at the file paths provided below.  \n",
    "\n",
    "Please select one of the two options below for loading the environment."
   ]
  },
  {
   "cell_type": "code",
   "execution_count": null,
   "metadata": {},
   "outputs": [],
   "source": [
    "from unityagents import UnityEnvironment\n",
    "import numpy as np\n",
    "\n",
    "# select this option to load version 1 (with a single agent) of the environment\n",
    "env = UnityEnvironment(file_name='/data/Reacher_One_Linux_NoVis/Reacher_One_Linux_NoVis.x86_64')\n",
    "\n",
    "# select this option to load version 2 (with 20 agents) of the environment\n",
    "# env = UnityEnvironment(file_name='/data/Reacher_Linux_NoVis/Reacher.x86_64')"
   ]
  },
  {
   "cell_type": "markdown",
   "metadata": {},
   "source": [
    "Environments contain **_brains_** which are responsible for deciding the actions of their associated agents. Here we check for the first brain available, and set it as the default brain we will be controlling from Python."
   ]
  },
  {
   "cell_type": "code",
   "execution_count": null,
   "metadata": {},
   "outputs": [],
   "source": [
    "# get the default brain\n",
    "brain_name = env.brain_names[0]\n",
    "brain = env.brains[brain_name]"
   ]
  },
  {
   "cell_type": "markdown",
   "metadata": {},
   "source": [
    "### 2. Examine the State and Action Spaces\n",
    "\n",
    "Run the code cell below to print some information about the environment."
   ]
  },
  {
   "cell_type": "code",
   "execution_count": null,
   "metadata": {},
   "outputs": [],
   "source": [
    "# reset the environment\n",
    "env_info = env.reset(train_mode=True)[brain_name]\n",
    "\n",
    "# number of agents\n",
    "num_agents = len(env_info.agents)\n",
    "print('Number of agents:', num_agents)\n",
    "\n",
    "# size of each action\n",
    "action_size = brain.vector_action_space_size\n",
    "print('Size of each action:', action_size)\n",
    "\n",
    "# examine the state space \n",
    "states = env_info.vector_observations\n",
    "state_size = states.shape[1]\n",
    "print('There are {} agents. Each observes a state with length: {}'.format(states.shape[0], state_size))\n",
    "print('The state for the first agent looks like:', states[0])"
   ]
  },
  {
   "cell_type": "markdown",
   "metadata": {},
   "source": [
    "### 3. Take Random Actions in the Environment\n",
    "\n",
    "In the next code cell, you will learn how to use the Python API to control the agent and receive feedback from the environment.\n",
    "\n",
    "Note that **in this coding environment, you will not be able to watch the agents while they are training**, and you should set `train_mode=True` to restart the environment."
   ]
  },
  {
   "cell_type": "code",
   "execution_count": null,
   "metadata": {},
   "outputs": [],
   "source": [
    "env_info = env.reset(train_mode=True)[brain_name]      # reset the environment    \n",
    "states = env_info.vector_observations                  # get the current state (for each agent)\n",
    "scores = np.zeros(num_agents)                          # initialize the score (for each agent)\n",
    "while True:\n",
    "    actions = np.random.randn(num_agents, action_size) # select an action (for each agent)\n",
    "    actions = np.clip(actions, -1, 1)                  # all actions between -1 and 1\n",
    "    env_info = env.step(actions)[brain_name]           # send all actions to tne environment\n",
    "    next_states = env_info.vector_observations         # get next state (for each agent)\n",
    "    rewards = env_info.rewards                         # get reward (for each agent)\n",
    "    dones = env_info.local_done                        # see if episode finished\n",
    "    scores += env_info.rewards                         # update the score (for each agent)\n",
    "    states = next_states                               # roll over states to next time step\n",
    "    if np.any(dones):                                  # exit loop if episode finished\n",
    "        break\n",
    "print('Total score (averaged over agents) this episode: {}'.format(np.mean(scores)))"
   ]
  },
  {
   "cell_type": "markdown",
   "metadata": {},
   "source": [
    "### Hyperparameter set of the agent"
   ]
  },
  {
   "cell_type": "code",
   "execution_count": null,
   "metadata": {},
   "outputs": [],
   "source": [
    "# Necessary imports\n",
    "import random\n",
    "from collections import deque\n",
    "\n",
    "import torch\n",
    "import matplotlib.pyplot as plt\n",
    "\n",
    "from agent import Agent"
   ]
  },
  {
   "cell_type": "markdown",
   "metadata": {},
   "source": [
    "The following class will randomly sample a set of the hyperparameters of our agent. This randomly sampled set will be used to evaluate the agent for a small number of iterations. The score for each training will be saved and finally we will use the hyperparameters with highes score for our final training.   "
   ]
  },
  {
   "cell_type": "code",
   "execution_count": null,
   "metadata": {},
   "outputs": [],
   "source": [
    "class SampleHyperparameter(object):\n",
    "    '''Returned randomly sampled hyperparameters.\n",
    "        Return Type: Dictionary\n",
    "    '''\n",
    "    def __init__(self):\n",
    "        self.TAU = [1e-3, 1e-5, 1e-1]     # for soft update of target parameters\n",
    "        self.LR_ACTOR = [1e-4, 1e-2, 1e-3]              # learning rate of the actor \n",
    "        self.LR_CRITIC = [1e-4, 1e-2, 1e-3]             # learning rate of the critic\n",
    "        self.WEIGHT_DECAY = [1e-1, 1e-2, 1e-3]             # L2 weight decay\n",
    "        self.ACTOR_FC1_UNITS = [1024, 512, 256]        # Number of units for the layer 1 in the actor model\n",
    "        self.ACTOR_FC2_UNITS = [512, 256, 128]        # Number of units for the layer 2 in the actor model\n",
    "        self.CRITIC_FC1_UNITS = [1024, 512, 256]      # Number of units for the layer 1 in the critic model\n",
    "        self.CRITIC_FC2_UNITS = [512, 256, 128]       # Number of units for the layer 2 in the critic model\n",
    "        self.BN_MODE = [0, 1, 2]                  # Use Batch Norm. - 0=disabled, 1=BN before Activation, 2=BN after Activation (3, 4 are alt. versions of 1, 2)\n",
    "        self.ADD_OU_NOISE = [True, False]          # Add Ornstein-Uhlenbeck noise\n",
    "        \n",
    "        self.return_list = {}\n",
    "\n",
    "    def get_random_sample(self):\n",
    "        self.return_list['tau'] = random.choice(self.TAU)\n",
    "        self.return_list['lr_actor'] = random.choice(self.LR_ACTOR)\n",
    "        self.return_list['lr_critic'] = random.choice(self.LR_CRITIC)\n",
    "        self.return_list['wd'] = random.choice(self.WEIGHT_DECAY)\n",
    "        architecture_index = random.choice([0,1,2])\n",
    "        self.return_list['actor_fc1'] = self.ACTOR_FC1_UNITS[architecture_index]\n",
    "        self.return_list['actor_fc2'] = self.ACTOR_FC2_UNITS[architecture_index]\n",
    "        self.return_list['critic_fc1'] = self.CRITIC_FC1_UNITS[architecture_index]\n",
    "        self.return_list['critic_fc2'] = self.CRITIC_FC2_UNITS[architecture_index]\n",
    "        self.return_list['bn_mode'] = random.choice(self.BN_MODE)\n",
    "        self.return_list['ou_noise'] = random.choice(self.ADD_OU_NOISE)\n",
    "        \n",
    "        return self.return_list\n",
    "        "
   ]
  },
  {
   "cell_type": "code",
   "execution_count": null,
   "metadata": {},
   "outputs": [],
   "source": [
    "#test hyperparameter random sampling\n",
    "hyperparameter_obj = SampleHyperparameter()\n",
    "for _ in range(5):\n",
    "    print(hyperparameter_obj.get_random_sample())"
   ]
  },
  {
   "cell_type": "code",
   "execution_count": null,
   "metadata": {},
   "outputs": [],
   "source": [
    "#Fixed hyperparameters\n",
    "BUFFER_SIZE = int(1e5)  # replay buffer size\n",
    "BATCH_SIZE = 128        # minibatch size\n",
    "GAMMA = 0.99            # discount factor\n",
    "MU = 0.                 # Ornstein-Uhlenbeck noise parameter\n",
    "THETA = 0.15            # Ornstein-Uhlenbeck noise parameter\n",
    "SIGMA = 0.1             # Ornstein-Uhlenbeck noise parameter\n",
    "\n",
    "#Default settings\n",
    "TAU = 1e-3              # for soft update of target parameters\n",
    "LR_ACTOR = 1e-4         # learning rate of the actor \n",
    "LR_CRITIC = 1e-3        # learning rate of the critic\n",
    "WEIGHT_DECAY = 0        # L2 weight decay\n",
    "ACTOR_FC1_UNITS = 400   # Number of units for the layer 1 in the actor model\n",
    "ACTOR_FC2_UNITS = 300   # Number of units for the layer 2 in the actor model\n",
    "CRITIC_FCS1_UNITS = 400 # Number of units for the layer 1 in the critic model\n",
    "CRITIC_FC2_UNITS = 300  # Number of units for the layer 2 in the critic model\n",
    "BN_MODE = 0             # Use Batch Norm. - 0=disabled, 1=BN before Activation, 2=BN after Activation (3, 4 are alt. versions of 1, 2)\n",
    "ADD_OU_NOISE = True     # Add Ornstein-Uhlenbeck noise"
   ]
  },
  {
   "cell_type": "markdown",
   "metadata": {},
   "source": [
    "### DDPG training method"
   ]
  },
  {
   "cell_type": "code",
   "execution_count": null,
   "metadata": {},
   "outputs": [],
   "source": [
    "def ddpg(n_episodes=100, max_t=1000,\n",
    "         state_size=state_size, action_size=action_size, random_seed=1234, \n",
    "         actor_fc1_units=ACTOR_FC1_UNITS, actor_fc2_units=ACTOR_FC2_UNITS,\n",
    "         critic_fcs1_units=CRITIC_FCS1_UNITS, critic_fc2_units=CRITIC_FC2_UNITS,\n",
    "         buffer_size=BUFFER_SIZE, batch_size=BATCH_SIZE, bn_mode=BN_MODE,\n",
    "         gamma=GAMMA, tau=TAU, lr_actor=LR_ACTOR, lr_critic=LR_CRITIC, weight_decay=WEIGHT_DECAY,\n",
    "         add_ounoise=ADD_OU_NOISE, mu=MU, theta=THETA, sigma=SIGMA):  \n",
    "    \n",
    "    # Instantiate the Agent\n",
    "    agent = Agent(state_size=state_size,action_size=action_size, random_seed=random_seed,\n",
    "                  actor_fc1_units=actor_fc1_units, actor_fc2_units=actor_fc2_units,\n",
    "                  critic_fcs1_units=critic_fcs1_units, critic_fc2_units=critic_fc2_units,\n",
    "                  buffer_size=buffer_size, batch_size=batch_size, bn_mode=bn_mode,\n",
    "                  gamma=gamma, tau=tau,\n",
    "                  lr_actor=lr_actor, lr_critic=lr_critic, weight_decay=weight_decay,\n",
    "                  add_ounoise=add_ounoise, mu=mu, theta=theta, sigma=sigma)\n",
    "                  \n",
    "    scores_deque = deque(maxlen=100)\n",
    "    scores = []\n",
    "\n",
    "    print(\"\\nStart training:\")\n",
    "    for i_episode in range(1, n_episodes+1):\n",
    "        \n",
    "        # Reset the env and get the state (Single Agent)\n",
    "        env_info = env.reset(train_mode=True)[brain_name]     \n",
    "        state = env_info.vector_observations[0]\n",
    "        \n",
    "        # Reset the DDPG Agent (Reset the internal state (= noise) to mean mu)\n",
    "        agent.reset()\n",
    "        \n",
    "        # Reset the score \n",
    "        score = 0\n",
    "        \n",
    "        for t in range(max_t):\n",
    "            action = agent.act(state)                   # select an action \n",
    "\n",
    "            env_info=env.step(action)[brain_name]        # send action to the environment\n",
    "            next_state = env_info.vector_observations[0] # get next state (Single Agent)\n",
    "            reward = env_info.rewards[0]                 # get reward (Single Agent)\n",
    "            done = env_info.local_done[0]                # see if episode finished (Single Agent)\n",
    "            \n",
    "            # Save experience in replay memory, and use random sample from buffer to learn\n",
    "            agent.step(state, action, reward, next_state, done)\n",
    "            \n",
    "            state = next_state\n",
    "            score += reward\n",
    "            if done:\n",
    "                #print(\"Episode {} has terminated at step {}\".format(i_episode, t))\n",
    "                break \n",
    "        \n",
    "        # Save scores and compute average score over last 100 episodes\n",
    "        scores_deque.append(score)\n",
    "        scores.append(score)\n",
    "        avg_score = np.mean(scores_deque)\n",
    "        \n",
    "        print('\\rEpisode {}\\tAverage Score: {:.2f}\\tScore: {:.2f}'.format(i_episode, avg_score, score), end=\"\")\n",
    "        if i_episode % 100 == 0:\n",
    "            torch.save(agent.actor_local.state_dict(), 'checkpoint_actor.pth')\n",
    "            torch.save(agent.critic_local.state_dict(), 'checkpoint_critic.pth')\n",
    "            # Early stop\n",
    "            if avg_score > 30:\n",
    "                print('\\rEnvironment solved in {} episodes with an Average Score of {:.2f}'.format(i_episode, avg_score))\n",
    "                return scores\n",
    "            print('\\rEpisode {}\\tAverage Score: {:.2f}'.format(i_episode, avg_score))  \n",
    "    return scores"
   ]
  },
  {
   "cell_type": "markdown",
   "metadata": {},
   "source": [
    "### Method for visualization"
   ]
  },
  {
   "cell_type": "code",
   "execution_count": null,
   "metadata": {},
   "outputs": [],
   "source": [
    "def plot_training(scores):\n",
    "    plt.plot(np.arange(1, len(scores)+1), scores)\n",
    "    plt.ylabel('Score')\n",
    "    plt.xlabel('Episode #')\n",
    "    plt.show()"
   ]
  },
  {
   "cell_type": "markdown",
   "metadata": {},
   "source": [
    "### Searching for hyperparameters"
   ]
  },
  {
   "cell_type": "code",
   "execution_count": 19,
   "metadata": {
    "scrolled": true
   },
   "outputs": [
    {
     "name": "stdout",
     "output_type": "stream",
     "text": [
      "\n",
      "[INFO]ddpg constructor called with parameters: state_size=33 action_size=4 random_seed=1234 actor_fc1_units=512 actor_fc2_units=256 critic_fcs1_units=512 critic_fc2_units=256 buffer_size=100000 batch_size=128 gamma=0.99 tau=0.001 bn_mode=0 lr_actor=0.0001 lr_critic=0.001 weight_decay=0.001 add_ounoise=True mu=0.0 theta=0.15 sigma=0.1 \n",
      "\n",
      "\n",
      "Start training:\n"
     ]
    },
    {
     "name": "stderr",
     "output_type": "stream",
     "text": [
      "/home/workspace/agent.py:141: UserWarning: torch.nn.utils.clip_grad_norm is now deprecated in favor of torch.nn.utils.clip_grad_norm_.\n",
      "  torch.nn.utils.clip_grad_norm(self.critic_local.parameters(), 1)\n"
     ]
    },
    {
     "name": "stdout",
     "output_type": "stream",
     "text": [
      "Episode 50\tAverage Score: 0.31\tScore: 1.42\n",
      "[INFO]ddpg constructor called with parameters: state_size=33 action_size=4 random_seed=1234 actor_fc1_units=256 actor_fc2_units=128 critic_fcs1_units=256 critic_fc2_units=128 buffer_size=100000 batch_size=128 gamma=0.99 tau=1e-05 bn_mode=2 lr_actor=0.001 lr_critic=0.01 weight_decay=0.001 add_ounoise=False mu=0.0 theta=0.15 sigma=0.1 \n",
      "\n",
      "\n",
      "Start training:\n",
      "Episode 50\tAverage Score: 0.48\tScore: 0.32\n",
      "[INFO]ddpg constructor called with parameters: state_size=33 action_size=4 random_seed=1234 actor_fc1_units=1024 actor_fc2_units=512 critic_fcs1_units=1024 critic_fc2_units=512 buffer_size=100000 batch_size=128 gamma=0.99 tau=0.1 bn_mode=2 lr_actor=0.001 lr_critic=0.0001 weight_decay=0.1 add_ounoise=False mu=0.0 theta=0.15 sigma=0.1 \n",
      "\n",
      "\n",
      "Start training:\n",
      "Episode 50\tAverage Score: 0.15\tScore: 0.00\n",
      "[INFO]ddpg constructor called with parameters: state_size=33 action_size=4 random_seed=1234 actor_fc1_units=1024 actor_fc2_units=512 critic_fcs1_units=1024 critic_fc2_units=512 buffer_size=100000 batch_size=128 gamma=0.99 tau=0.1 bn_mode=2 lr_actor=0.001 lr_critic=0.0001 weight_decay=0.1 add_ounoise=False mu=0.0 theta=0.15 sigma=0.1 \n",
      "\n",
      "\n",
      "Start training:\n",
      "Episode 50\tAverage Score: 0.01\tScore: 0.00\n",
      "[INFO]ddpg constructor called with parameters: state_size=33 action_size=4 random_seed=1234 actor_fc1_units=1024 actor_fc2_units=512 critic_fcs1_units=1024 critic_fc2_units=512 buffer_size=100000 batch_size=128 gamma=0.99 tau=0.1 bn_mode=2 lr_actor=0.001 lr_critic=0.0001 weight_decay=0.1 add_ounoise=False mu=0.0 theta=0.15 sigma=0.1 \n",
      "\n",
      "\n",
      "Start training:\n",
      "Episode 50\tAverage Score: 0.31\tScore: 0.18\n",
      "[INFO]ddpg constructor called with parameters: state_size=33 action_size=4 random_seed=1234 actor_fc1_units=1024 actor_fc2_units=512 critic_fcs1_units=1024 critic_fc2_units=512 buffer_size=100000 batch_size=128 gamma=0.99 tau=0.1 bn_mode=2 lr_actor=0.001 lr_critic=0.0001 weight_decay=0.1 add_ounoise=False mu=0.0 theta=0.15 sigma=0.1 \n",
      "\n",
      "\n",
      "Start training:\n",
      "Episode 50\tAverage Score: 0.02\tScore: 0.00\n",
      "[INFO]ddpg constructor called with parameters: state_size=33 action_size=4 random_seed=1234 actor_fc1_units=1024 actor_fc2_units=512 critic_fcs1_units=1024 critic_fc2_units=512 buffer_size=100000 batch_size=128 gamma=0.99 tau=0.1 bn_mode=2 lr_actor=0.001 lr_critic=0.0001 weight_decay=0.1 add_ounoise=False mu=0.0 theta=0.15 sigma=0.1 \n",
      "\n",
      "\n",
      "Start training:\n",
      "Episode 50\tAverage Score: 0.02\tScore: 0.00\n",
      "[INFO]ddpg constructor called with parameters: state_size=33 action_size=4 random_seed=1234 actor_fc1_units=1024 actor_fc2_units=512 critic_fcs1_units=1024 critic_fc2_units=512 buffer_size=100000 batch_size=128 gamma=0.99 tau=0.1 bn_mode=2 lr_actor=0.001 lr_critic=0.0001 weight_decay=0.1 add_ounoise=False mu=0.0 theta=0.15 sigma=0.1 \n",
      "\n",
      "\n",
      "Start training:\n",
      "Episode 50\tAverage Score: 0.56\tScore: 0.11\n",
      "[INFO]ddpg constructor called with parameters: state_size=33 action_size=4 random_seed=1234 actor_fc1_units=1024 actor_fc2_units=512 critic_fcs1_units=1024 critic_fc2_units=512 buffer_size=100000 batch_size=128 gamma=0.99 tau=0.1 bn_mode=2 lr_actor=0.001 lr_critic=0.0001 weight_decay=0.1 add_ounoise=False mu=0.0 theta=0.15 sigma=0.1 \n",
      "\n",
      "\n",
      "Start training:\n",
      "Episode 50\tAverage Score: 0.24\tScore: 0.69\n",
      "[INFO]ddpg constructor called with parameters: state_size=33 action_size=4 random_seed=1234 actor_fc1_units=1024 actor_fc2_units=512 critic_fcs1_units=1024 critic_fc2_units=512 buffer_size=100000 batch_size=128 gamma=0.99 tau=0.1 bn_mode=2 lr_actor=0.001 lr_critic=0.0001 weight_decay=0.1 add_ounoise=False mu=0.0 theta=0.15 sigma=0.1 \n",
      "\n",
      "\n",
      "Start training:\n",
      "Episode 50\tAverage Score: 0.14\tScore: 0.09best score:  0.5579999875277281\n",
      "best h_params:  {'tau': 0.1, 'lr_actor': 0.001, 'lr_critic': 0.0001, 'wd': 0.1, 'actor_fc1': 1024, 'actor_fc2': 512, 'critic_fc1': 1024, 'critic_fc2': 512, 'bn_mode': 2, 'ou_noise': False}\n"
     ]
    }
   ],
   "source": [
    "h_obj = SampleHyperparameter()\n",
    "# 'tau': 0.001, 'lr_actor': 0.001, 'lr_critic': 0.0001, 'wd': 0.1, 'actor_fc1': 512, 'actor_fc2': 256, 'critic_fc1': 512, \n",
    "# 'critic_fc2': 256, 'bn_mode': 2, 'ou_noise': True\n",
    "avg_score = []\n",
    "h_params = []\n",
    "for _ in range(10):\n",
    "    ret = h_obj.get_random_sample()\n",
    "    h_params.append(ret)\n",
    "    scores = ddpg(n_episodes=50, max_t=500, \n",
    "              actor_fc1_units=ret['actor_fc1'], actor_fc2_units=ret['actor_fc2'],\n",
    "              critic_fcs1_units=ret['critic_fc1'], critic_fc2_units=ret['critic_fc2'], bn_mode=ret['bn_mode'],\n",
    "              gamma=GAMMA, tau=ret['tau'], lr_actor=ret['lr_actor'], lr_critic=ret['lr_critic'], weight_decay=ret['wd'],\n",
    "              add_ounoise=ret['ou_noise'], mu=MU, theta=THETA, sigma=SIGMA)\n",
    "    avg_score.append(sum(scores)/len(scores))\n",
    "    \n",
    "print('best score: ',max(avg_score))\n",
    "idx = avg_score.index(max(avg_score))\n",
    "print('best h_params: ', h_params[idx])"
   ]
  },
  {
   "cell_type": "code",
   "execution_count": 23,
   "metadata": {},
   "outputs": [
    {
     "data": {
      "image/png": "[encoded data removed]",
      "text/plain": [
       "<matplotlib.figure.Figure at 0x7f9a8a3965f8>"
      ]
     },
     "metadata": {
      "needs_background": "light"
     },
     "output_type": "display_data"
    }
   ],
   "source": [
    "plot_training(avg_score)"
   ]
  },
  {
   "cell_type": "markdown",
   "metadata": {},
   "source": [
    "### Final Training with best hyperparameters"
   ]
  },
  {
   "cell_type": "code",
   "execution_count": 12,
   "metadata": {
    "scrolled": true
   },
   "outputs": [
    {
     "name": "stdout",
     "output_type": "stream",
     "text": [
      "\n",
      "[INFO]ddpg constructor called with parameters: state_size=33 action_size=4 random_seed=1234 actor_fc1_units=1024 actor_fc2_units=512 critic_fcs1_units=1024 critic_fc2_units=512 buffer_size=100000 batch_size=128 gamma=0.99 tau=0.1 bn_mode=2 lr_actor=0.001 lr_critic=0.0001 weight_decay=0.1 add_ounoise=False mu=0.0 theta=0.15 sigma=0.1 \n",
      "\n",
      "\n",
      "Start training:\n"
     ]
    },
    {
     "name": "stderr",
     "output_type": "stream",
     "text": [
      "/home/workspace/agent.py:141: UserWarning: torch.nn.utils.clip_grad_norm is now deprecated in favor of torch.nn.utils.clip_grad_norm_.\n",
      "  torch.nn.utils.clip_grad_norm(self.critic_local.parameters(), 1)\n"
     ]
    },
    {
     "name": "stdout",
     "output_type": "stream",
     "text": [
      "Episode 100\tAverage Score: 0.55\tScore: 1.18\n",
      "Episode 200\tAverage Score: 0.49\tScore: 1.00\n",
      "Episode 300\tAverage Score: 0.72\tScore: 0.23\n",
      "Episode 397\tAverage Score: 0.82\tScore: 0.35"
     ]
    },
    {
     "ename": "KeyboardInterrupt",
     "evalue": "",
     "output_type": "error",
     "traceback": [
      "\u001b[0;31m---------------------------------------------------------------------------\u001b[0m",
      "\u001b[0;31mKeyboardInterrupt\u001b[0m                         Traceback (most recent call last)",
      "\u001b[0;32m<ipython-input-12-200d899874a8>\u001b[0m in \u001b[0;36m<module>\u001b[0;34m()\u001b[0m\n\u001b[1;32m      3\u001b[0m               \u001b[0mcritic_fcs1_units\u001b[0m\u001b[0;34m=\u001b[0m\u001b[0;36m1024\u001b[0m\u001b[0;34m,\u001b[0m \u001b[0mcritic_fc2_units\u001b[0m\u001b[0;34m=\u001b[0m\u001b[0;36m512\u001b[0m\u001b[0;34m,\u001b[0m \u001b[0mbn_mode\u001b[0m\u001b[0;34m=\u001b[0m\u001b[0;36m2\u001b[0m\u001b[0;34m,\u001b[0m\u001b[0;34m\u001b[0m\u001b[0m\n\u001b[1;32m      4\u001b[0m               \u001b[0mgamma\u001b[0m\u001b[0;34m=\u001b[0m\u001b[0;36m0.99\u001b[0m\u001b[0;34m,\u001b[0m \u001b[0mtau\u001b[0m\u001b[0;34m=\u001b[0m\u001b[0;36m1e-1\u001b[0m\u001b[0;34m,\u001b[0m \u001b[0mlr_actor\u001b[0m\u001b[0;34m=\u001b[0m\u001b[0;36m0.001\u001b[0m\u001b[0;34m,\u001b[0m \u001b[0mlr_critic\u001b[0m\u001b[0;34m=\u001b[0m\u001b[0;36m0.0001\u001b[0m\u001b[0;34m,\u001b[0m \u001b[0mweight_decay\u001b[0m\u001b[0;34m=\u001b[0m\u001b[0;36m0.1\u001b[0m\u001b[0;34m,\u001b[0m\u001b[0;34m\u001b[0m\u001b[0m\n\u001b[0;32m----> 5\u001b[0;31m               add_ounoise=False, mu=0., theta=0.15, sigma=0.1)\n\u001b[0m",
      "\u001b[0;32m<ipython-input-10-edfbb8e2f63b>\u001b[0m in \u001b[0;36mddpg\u001b[0;34m(n_episodes, max_t, state_size, action_size, random_seed, actor_fc1_units, actor_fc2_units, critic_fcs1_units, critic_fc2_units, buffer_size, batch_size, bn_mode, gamma, tau, lr_actor, lr_critic, weight_decay, add_ounoise, mu, theta, sigma)\u001b[0m\n\u001b[1;32m     41\u001b[0m \u001b[0;34m\u001b[0m\u001b[0m\n\u001b[1;32m     42\u001b[0m             \u001b[0;31m# Save experience in replay memory, and use random sample from buffer to learn\u001b[0m\u001b[0;34m\u001b[0m\u001b[0;34m\u001b[0m\u001b[0m\n\u001b[0;32m---> 43\u001b[0;31m             \u001b[0magent\u001b[0m\u001b[0;34m.\u001b[0m\u001b[0mstep\u001b[0m\u001b[0;34m(\u001b[0m\u001b[0mstate\u001b[0m\u001b[0;34m,\u001b[0m \u001b[0maction\u001b[0m\u001b[0;34m,\u001b[0m \u001b[0mreward\u001b[0m\u001b[0;34m,\u001b[0m \u001b[0mnext_state\u001b[0m\u001b[0;34m,\u001b[0m \u001b[0mdone\u001b[0m\u001b[0;34m)\u001b[0m\u001b[0;34m\u001b[0m\u001b[0m\n\u001b[0m\u001b[1;32m     44\u001b[0m \u001b[0;34m\u001b[0m\u001b[0m\n\u001b[1;32m     45\u001b[0m             \u001b[0mstate\u001b[0m \u001b[0;34m=\u001b[0m \u001b[0mnext_state\u001b[0m\u001b[0;34m\u001b[0m\u001b[0m\n",
      "\u001b[0;32m/home/workspace/agent.py\u001b[0m in \u001b[0;36mstep\u001b[0;34m(self, state, action, reward, next_state, done)\u001b[0m\n\u001b[1;32m     98\u001b[0m         \u001b[0;32mif\u001b[0m \u001b[0mlen\u001b[0m\u001b[0;34m(\u001b[0m\u001b[0mself\u001b[0m\u001b[0;34m.\u001b[0m\u001b[0mmemory\u001b[0m\u001b[0;34m)\u001b[0m \u001b[0;34m>\u001b[0m \u001b[0mself\u001b[0m\u001b[0;34m.\u001b[0m\u001b[0mbatch_size\u001b[0m\u001b[0;34m:\u001b[0m\u001b[0;34m\u001b[0m\u001b[0m\n\u001b[1;32m     99\u001b[0m             \u001b[0mexperiences\u001b[0m \u001b[0;34m=\u001b[0m \u001b[0mself\u001b[0m\u001b[0;34m.\u001b[0m\u001b[0mmemory\u001b[0m\u001b[0;34m.\u001b[0m\u001b[0msample\u001b[0m\u001b[0;34m(\u001b[0m\u001b[0;34m)\u001b[0m\u001b[0;34m\u001b[0m\u001b[0m\n\u001b[0;32m--> 100\u001b[0;31m             \u001b[0mself\u001b[0m\u001b[0;34m.\u001b[0m\u001b[0mlearn\u001b[0m\u001b[0;34m(\u001b[0m\u001b[0mexperiences\u001b[0m\u001b[0;34m,\u001b[0m \u001b[0mself\u001b[0m\u001b[0;34m.\u001b[0m\u001b[0mgamma\u001b[0m\u001b[0;34m)\u001b[0m\u001b[0;34m\u001b[0m\u001b[0m\n\u001b[0m\u001b[1;32m    101\u001b[0m \u001b[0;34m\u001b[0m\u001b[0m\n\u001b[1;32m    102\u001b[0m     \u001b[0;32mdef\u001b[0m \u001b[0mact\u001b[0m\u001b[0;34m(\u001b[0m\u001b[0mself\u001b[0m\u001b[0;34m,\u001b[0m \u001b[0mstate\u001b[0m\u001b[0;34m)\u001b[0m\u001b[0;34m:\u001b[0m\u001b[0;34m\u001b[0m\u001b[0m\n",
      "\u001b[0;32m/home/workspace/agent.py\u001b[0m in \u001b[0;36mlearn\u001b[0;34m(self, experiences, gamma)\u001b[0m\n\u001b[1;32m    144\u001b[0m         \u001b[0;31m# ---------------------------- update actor ---------------------------- #\u001b[0m\u001b[0;34m\u001b[0m\u001b[0;34m\u001b[0m\u001b[0m\n\u001b[1;32m    145\u001b[0m         \u001b[0;31m# Compute actor loss\u001b[0m\u001b[0;34m\u001b[0m\u001b[0;34m\u001b[0m\u001b[0m\n\u001b[0;32m--> 146\u001b[0;31m         \u001b[0mactions_pred\u001b[0m \u001b[0;34m=\u001b[0m \u001b[0mself\u001b[0m\u001b[0;34m.\u001b[0m\u001b[0mactor_local\u001b[0m\u001b[0;34m(\u001b[0m\u001b[0mstates\u001b[0m\u001b[0;34m)\u001b[0m\u001b[0;34m\u001b[0m\u001b[0m\n\u001b[0m\u001b[1;32m    147\u001b[0m         \u001b[0mactor_loss\u001b[0m \u001b[0;34m=\u001b[0m \u001b[0;34m-\u001b[0m\u001b[0mself\u001b[0m\u001b[0;34m.\u001b[0m\u001b[0mcritic_local\u001b[0m\u001b[0;34m(\u001b[0m\u001b[0mstates\u001b[0m\u001b[0;34m,\u001b[0m \u001b[0mactions_pred\u001b[0m\u001b[0;34m)\u001b[0m\u001b[0;34m.\u001b[0m\u001b[0mmean\u001b[0m\u001b[0;34m(\u001b[0m\u001b[0;34m)\u001b[0m\u001b[0;34m\u001b[0m\u001b[0m\n\u001b[1;32m    148\u001b[0m         \u001b[0;31m# Minimize the loss\u001b[0m\u001b[0;34m\u001b[0m\u001b[0;34m\u001b[0m\u001b[0m\n",
      "\u001b[0;32m/opt/conda/lib/python3.6/site-packages/torch/nn/modules/module.py\u001b[0m in \u001b[0;36m__call__\u001b[0;34m(self, *input, **kwargs)\u001b[0m\n\u001b[1;32m    489\u001b[0m             \u001b[0mresult\u001b[0m \u001b[0;34m=\u001b[0m \u001b[0mself\u001b[0m\u001b[0;34m.\u001b[0m\u001b[0m_slow_forward\u001b[0m\u001b[0;34m(\u001b[0m\u001b[0;34m*\u001b[0m\u001b[0minput\u001b[0m\u001b[0;34m,\u001b[0m \u001b[0;34m**\u001b[0m\u001b[0mkwargs\u001b[0m\u001b[0;34m)\u001b[0m\u001b[0;34m\u001b[0m\u001b[0m\n\u001b[1;32m    490\u001b[0m         \u001b[0;32melse\u001b[0m\u001b[0;34m:\u001b[0m\u001b[0;34m\u001b[0m\u001b[0m\n\u001b[0;32m--> 491\u001b[0;31m             \u001b[0mresult\u001b[0m \u001b[0;34m=\u001b[0m \u001b[0mself\u001b[0m\u001b[0;34m.\u001b[0m\u001b[0mforward\u001b[0m\u001b[0;34m(\u001b[0m\u001b[0;34m*\u001b[0m\u001b[0minput\u001b[0m\u001b[0;34m,\u001b[0m \u001b[0;34m**\u001b[0m\u001b[0mkwargs\u001b[0m\u001b[0;34m)\u001b[0m\u001b[0;34m\u001b[0m\u001b[0m\n\u001b[0m\u001b[1;32m    492\u001b[0m         \u001b[0;32mfor\u001b[0m \u001b[0mhook\u001b[0m \u001b[0;32min\u001b[0m \u001b[0mself\u001b[0m\u001b[0;34m.\u001b[0m\u001b[0m_forward_hooks\u001b[0m\u001b[0;34m.\u001b[0m\u001b[0mvalues\u001b[0m\u001b[0;34m(\u001b[0m\u001b[0;34m)\u001b[0m\u001b[0;34m:\u001b[0m\u001b[0;34m\u001b[0m\u001b[0m\n\u001b[1;32m    493\u001b[0m             \u001b[0mhook_result\u001b[0m \u001b[0;34m=\u001b[0m \u001b[0mhook\u001b[0m\u001b[0;34m(\u001b[0m\u001b[0mself\u001b[0m\u001b[0;34m,\u001b[0m \u001b[0minput\u001b[0m\u001b[0;34m,\u001b[0m \u001b[0mresult\u001b[0m\u001b[0;34m)\u001b[0m\u001b[0;34m\u001b[0m\u001b[0m\n",
      "\u001b[0;32m/home/workspace/model_definition.py\u001b[0m in \u001b[0;36mforward\u001b[0;34m(self, state)\u001b[0m\n\u001b[1;32m     72\u001b[0m             \u001b[0;31m# Batch Normalization after Activation\u001b[0m\u001b[0;34m\u001b[0m\u001b[0;34m\u001b[0m\u001b[0m\n\u001b[1;32m     73\u001b[0m             \u001b[0mx\u001b[0m \u001b[0;34m=\u001b[0m \u001b[0mF\u001b[0m\u001b[0;34m.\u001b[0m\u001b[0mrelu\u001b[0m\u001b[0;34m(\u001b[0m\u001b[0mself\u001b[0m\u001b[0;34m.\u001b[0m\u001b[0mfc1\u001b[0m\u001b[0;34m(\u001b[0m\u001b[0mstate\u001b[0m\u001b[0;34m)\u001b[0m\u001b[0;34m)\u001b[0m\u001b[0;34m\u001b[0m\u001b[0m\n\u001b[0;32m---> 74\u001b[0;31m             \u001b[0mx\u001b[0m \u001b[0;34m=\u001b[0m \u001b[0mself\u001b[0m\u001b[0;34m.\u001b[0m\u001b[0mbn1\u001b[0m\u001b[0;34m(\u001b[0m\u001b[0mx\u001b[0m\u001b[0;34m)\u001b[0m\u001b[0;34m\u001b[0m\u001b[0m\n\u001b[0m\u001b[1;32m     75\u001b[0m             \u001b[0mx\u001b[0m \u001b[0;34m=\u001b[0m \u001b[0mF\u001b[0m\u001b[0;34m.\u001b[0m\u001b[0mrelu\u001b[0m\u001b[0;34m(\u001b[0m\u001b[0mself\u001b[0m\u001b[0;34m.\u001b[0m\u001b[0mfc2\u001b[0m\u001b[0;34m(\u001b[0m\u001b[0mx\u001b[0m\u001b[0;34m)\u001b[0m\u001b[0;34m)\u001b[0m\u001b[0;34m\u001b[0m\u001b[0m\n\u001b[1;32m     76\u001b[0m             \u001b[0;32mreturn\u001b[0m \u001b[0mF\u001b[0m\u001b[0;34m.\u001b[0m\u001b[0mtanh\u001b[0m\u001b[0;34m(\u001b[0m\u001b[0mself\u001b[0m\u001b[0;34m.\u001b[0m\u001b[0mfc3\u001b[0m\u001b[0;34m(\u001b[0m\u001b[0mx\u001b[0m\u001b[0;34m)\u001b[0m\u001b[0;34m)\u001b[0m\u001b[0;34m\u001b[0m\u001b[0m\n",
      "\u001b[0;32m/opt/conda/lib/python3.6/site-packages/torch/nn/modules/module.py\u001b[0m in \u001b[0;36m__call__\u001b[0;34m(self, *input, **kwargs)\u001b[0m\n\u001b[1;32m    489\u001b[0m             \u001b[0mresult\u001b[0m \u001b[0;34m=\u001b[0m \u001b[0mself\u001b[0m\u001b[0;34m.\u001b[0m\u001b[0m_slow_forward\u001b[0m\u001b[0;34m(\u001b[0m\u001b[0;34m*\u001b[0m\u001b[0minput\u001b[0m\u001b[0;34m,\u001b[0m \u001b[0;34m**\u001b[0m\u001b[0mkwargs\u001b[0m\u001b[0;34m)\u001b[0m\u001b[0;34m\u001b[0m\u001b[0m\n\u001b[1;32m    490\u001b[0m         \u001b[0;32melse\u001b[0m\u001b[0;34m:\u001b[0m\u001b[0;34m\u001b[0m\u001b[0m\n\u001b[0;32m--> 491\u001b[0;31m             \u001b[0mresult\u001b[0m \u001b[0;34m=\u001b[0m \u001b[0mself\u001b[0m\u001b[0;34m.\u001b[0m\u001b[0mforward\u001b[0m\u001b[0;34m(\u001b[0m\u001b[0;34m*\u001b[0m\u001b[0minput\u001b[0m\u001b[0;34m,\u001b[0m \u001b[0;34m**\u001b[0m\u001b[0mkwargs\u001b[0m\u001b[0;34m)\u001b[0m\u001b[0;34m\u001b[0m\u001b[0m\n\u001b[0m\u001b[1;32m    492\u001b[0m         \u001b[0;32mfor\u001b[0m \u001b[0mhook\u001b[0m \u001b[0;32min\u001b[0m \u001b[0mself\u001b[0m\u001b[0;34m.\u001b[0m\u001b[0m_forward_hooks\u001b[0m\u001b[0;34m.\u001b[0m\u001b[0mvalues\u001b[0m\u001b[0;34m(\u001b[0m\u001b[0;34m)\u001b[0m\u001b[0;34m:\u001b[0m\u001b[0;34m\u001b[0m\u001b[0m\n\u001b[1;32m    493\u001b[0m             \u001b[0mhook_result\u001b[0m \u001b[0;34m=\u001b[0m \u001b[0mhook\u001b[0m\u001b[0;34m(\u001b[0m\u001b[0mself\u001b[0m\u001b[0;34m,\u001b[0m \u001b[0minput\u001b[0m\u001b[0;34m,\u001b[0m \u001b[0mresult\u001b[0m\u001b[0;34m)\u001b[0m\u001b[0;34m\u001b[0m\u001b[0m\n",
      "\u001b[0;32m/opt/conda/lib/python3.6/site-packages/torch/nn/modules/batchnorm.py\u001b[0m in \u001b[0;36mforward\u001b[0;34m(self, input)\u001b[0m\n\u001b[1;32m     46\u001b[0m \u001b[0;34m\u001b[0m\u001b[0m\n\u001b[1;32m     47\u001b[0m         return F.batch_norm(\n\u001b[0;32m---> 48\u001b[0;31m             \u001b[0minput\u001b[0m\u001b[0;34m,\u001b[0m \u001b[0mself\u001b[0m\u001b[0;34m.\u001b[0m\u001b[0mrunning_mean\u001b[0m\u001b[0;34m,\u001b[0m \u001b[0mself\u001b[0m\u001b[0;34m.\u001b[0m\u001b[0mrunning_var\u001b[0m\u001b[0;34m,\u001b[0m \u001b[0mself\u001b[0m\u001b[0;34m.\u001b[0m\u001b[0mweight\u001b[0m\u001b[0;34m,\u001b[0m \u001b[0mself\u001b[0m\u001b[0;34m.\u001b[0m\u001b[0mbias\u001b[0m\u001b[0;34m,\u001b[0m\u001b[0;34m\u001b[0m\u001b[0m\n\u001b[0m\u001b[1;32m     49\u001b[0m             self.training or not self.track_running_stats, self.momentum, self.eps)\n\u001b[1;32m     50\u001b[0m \u001b[0;34m\u001b[0m\u001b[0m\n",
      "\u001b[0;32m/opt/conda/lib/python3.6/site-packages/torch/nn/modules/module.py\u001b[0m in \u001b[0;36m__getattr__\u001b[0;34m(self, name)\u001b[0m\n\u001b[1;32m    516\u001b[0m             \u001b[0mself\u001b[0m\u001b[0;34m.\u001b[0m\u001b[0m_forward_pre_hooks\u001b[0m \u001b[0;34m=\u001b[0m \u001b[0mOrderedDict\u001b[0m\u001b[0;34m(\u001b[0m\u001b[0;34m)\u001b[0m\u001b[0;34m\u001b[0m\u001b[0m\n\u001b[1;32m    517\u001b[0m \u001b[0;34m\u001b[0m\u001b[0m\n\u001b[0;32m--> 518\u001b[0;31m     \u001b[0;32mdef\u001b[0m \u001b[0m__getattr__\u001b[0m\u001b[0;34m(\u001b[0m\u001b[0mself\u001b[0m\u001b[0;34m,\u001b[0m \u001b[0mname\u001b[0m\u001b[0;34m)\u001b[0m\u001b[0;34m:\u001b[0m\u001b[0;34m\u001b[0m\u001b[0m\n\u001b[0m\u001b[1;32m    519\u001b[0m         \u001b[0;32mif\u001b[0m \u001b[0;34m'_parameters'\u001b[0m \u001b[0;32min\u001b[0m \u001b[0mself\u001b[0m\u001b[0;34m.\u001b[0m\u001b[0m__dict__\u001b[0m\u001b[0;34m:\u001b[0m\u001b[0;34m\u001b[0m\u001b[0m\n\u001b[1;32m    520\u001b[0m             \u001b[0m_parameters\u001b[0m \u001b[0;34m=\u001b[0m \u001b[0mself\u001b[0m\u001b[0;34m.\u001b[0m\u001b[0m__dict__\u001b[0m\u001b[0;34m[\u001b[0m\u001b[0;34m'_parameters'\u001b[0m\u001b[0;34m]\u001b[0m\u001b[0;34m\u001b[0m\u001b[0m\n",
      "\u001b[0;31mKeyboardInterrupt\u001b[0m: "
     ]
    }
   ],
   "source": [
    "scores = ddpg(n_episodes=1500, max_t=1000, \n",
    "              actor_fc1_units=1024, actor_fc2_units=512,\n",
    "              critic_fcs1_units=1024, critic_fc2_units=512, bn_mode=2,\n",
    "              gamma=0.99, tau=1e-1, lr_actor=0.001, lr_critic=0.0001, weight_decay=0.1,\n",
    "              add_ounoise=False, mu=0., theta=0.15, sigma=0.1)"
   ]
  },
  {
   "cell_type": "markdown",
   "metadata": {},
   "source": [
    "When finished, you can close the environment."
   ]
  },
  {
   "cell_type": "code",
   "execution_count": null,
   "metadata": {},
   "outputs": [],
   "source": [
    "env.close()"
   ]
  }
 ],
 "metadata": {
  "kernelspec": {
   "display_name": "Python 3",
   "language": "python",
   "name": "python3"
  },
  "language_info": {
   "codemirror_mode": {
    "name": "ipython",
    "version": 3
   },
   "file_extension": ".py",
   "mimetype": "text/x-python",
   "name": "python",
   "nbconvert_exporter": "python",
   "pygments_lexer": "ipython3",
   "version": "3.6.3"
  }
 },
 "nbformat": 4,
 "nbformat_minor": 2
}
